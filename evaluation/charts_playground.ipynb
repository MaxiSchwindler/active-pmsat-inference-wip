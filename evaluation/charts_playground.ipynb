{
 "cells": [
  {
   "cell_type": "code",
   "execution_count": null,
   "id": "0",
   "metadata": {},
   "outputs": [],
   "source": [
    "import sys\n",
    "\n",
    "sys.path.append(f\"..\")\n",
    "sys.path.append(r\"../pmsat-inference\")\n",
    "from evaluation.utils import print_results_info\n",
    "from charts import *"
   ]
  },
  {
   "cell_type": "code",
   "execution_count": null,
   "id": "1",
   "metadata": {},
   "outputs": [],
   "source": [
    "# results_dir = r\"../learning_results_34\"  # first results with non-mat, only random new data\n",
    "# results_dir = r\"../learning_results_52\"  # non-mat results, replay and cex\n",
    "# results_dir = r\"../learning_results_66\"  # combined algo first run\n",
    "# results_dir = r\"../learning_results_110\"  # first run new alg name system\n",
    "# results_dir = r\"../learning_results_114\" # many results 5-8 (TO 10 min)\n",
    "# results_dir = r\"../learning_results_122\" # many results 9-12 (TO 20 min)\n",
    "# results_dir = r\"../learning_results_123\" # many results 9-12 (TO 30 min), sws2/3\n",
    "# results_dir = r\"../learning_results_124\" # many results 9-12 (TO 60 min), sws3/5, no wcp, el 5 once\n",
    "results_dir = r\"../learning_results_129\" # many many results with random walks (no glitches) -a \"APMSL(ONLY_RW)\" \"APMSL(RW)\" \"APMSL\" -o \"Random\" \"None\" -n 3 -ns 3-8 -ni 3 -no 3 --learn_num_times 3 \n",
    "\n",
    "results = load_results(results_dir)\n",
    "print_results_info(results)"
   ]
  },
  {
   "cell_type": "code",
   "execution_count": null,
   "id": "2",
   "metadata": {},
   "outputs": [],
   "source": [
    "from collections import defaultdict\n",
    "\n",
    "learned_incorrectly = [r for r in results if not r[\"learned_correctly\"] and is_valid_result(r)]\n",
    "\n",
    "reasons = defaultdict(int)\n",
    "for r in learned_incorrectly:\n",
    "    if r[\"timed_out\"]:\n",
    "        reasons[\"timed out\"] += 1\n",
    "        continue\n",
    "    \n",
    "    if r[\"learned_automaton_size\"] is None:\n",
    "        reasons[\"no hypothesis\"] += 1\n",
    "        continue\n",
    "        \n",
    "    if r[\"learned_automaton_size\"] < r[\"original_automaton_size\"]:\n",
    "        reasons[\"too small\"] += 1\n",
    "        continue\n",
    "        \n",
    "    if r[\"learned_automaton_size\"] > r[\"original_automaton_size\"]:\n",
    "        reasons[\"too big\"] += 1\n",
    "        \n",
    "    reasons[\"too little data (probably)\"] += 1\n",
    "    \n",
    "dict(reasons)"
   ]
  },
  {
   "cell_type": "code",
   "execution_count": null,
   "id": "3",
   "metadata": {},
   "outputs": [],
   "source": [
    "bar_chart_per_algorithm_and_oracle(results, \"learned_correctly\", stat_method=np.mean, only_if=is_valid_result)\n",
    "bar_chart_per_algorithm_and_oracle(results, \"steps_learning\", stat_method=np.mean, only_if=is_valid_result)\n",
    "bar_chart_per_algorithm_and_oracle(results, \"queries_learning\", stat_method=np.mean, only_if=is_valid_result)\n",
    "bar_chart_per_algorithm_and_oracle(results, \"learning_rounds\", stat_method=np.mean, only_if=is_valid_result)\n",
    "\n",
    "# line_chart_over_learning_rounds(\"sliding_window_start\")\n",
    "# line_chart_over_learning_rounds(\"num_traces\")\n",
    "# line_chart_over_learning_rounds(\"num_glitches\")\n",
    "# line_chart_over_learning_rounds(\"preprocessing_additional_traces\")\n",
    "# line_chart_over_learning_rounds(\"postprocessing_additional_traces_cex\")\n",
    "# line_chart_over_learning_rounds(\"postprocessing_additional_traces_glitch\")\n",
    "\n",
    "# scatterplot_per_alg(\"learning_rounds\", \"queries_learning\")\n",
    "# scatterplot_per_alg(\"learning_rounds\", \"steps_learning\")\n",
    "\n",
    "bar_chart_per_algorithm_and_oracle(results, \"total_time\", stat_method=np.median, only_if=is_valid_result)\n",
    "# bar_chart_per_algorithm((\"last_pmsat_info\", \"num_vars\"), stat_method=np.median, only_valid=True, only_if=lambda res: res.get(\"abort_reason\", None) is None)\n",
    "# bar_chart_per_algorithm((\"last_pmsat_info\", \"num_hard\"), stat_method=np.median, only_valid=True, only_if=lambda res: res.get(\"abort_reason\", None) is None)\n",
    "# bar_chart_per_algorithm((\"last_pmsat_info\", \"num_soft\"), stat_method=np.median, only_valid=True, only_if=lambda res: res.get(\"abort_reason\", None) is None)"
   ]
  },
  {
   "cell_type": "code",
   "execution_count": null,
   "id": "4",
   "metadata": {},
   "outputs": [],
   "source": [
    "num_removed_traces = sum(sum(r[\"detailed_learning_info\"][str(i+1)].get(\"removed_traces\", 0) for i in range(r[\"learning_rounds\"])) for r in results)\n",
    "print(f\"Number of removed traces: {num_removed_traces}\")"
   ]
  },
  {
   "cell_type": "code",
   "execution_count": null,
   "id": "5",
   "metadata": {},
   "outputs": [],
   "source": [
    "for stat in ('learned_correctly', 'bisimilar', 'Precision', 'Recall', 'F-Score', 'Precision (all steps)', 'Precision (all traces)', 'Strong accuracy (mean)', 'Strong accuracy (median)', 'Medium accuracy (mean)', 'Medium accuracy (median)', 'Weak accuracy (mean)', 'Weak accuracy (median)'):\n",
    "    bar_chart_per_algorithm_and_oracle(results, stat, stat_method=np.mean, only_if=is_valid_result)"
   ]
  },
  {
   "cell_type": "code",
   "execution_count": null,
   "id": "6",
   "metadata": {},
   "outputs": [],
   "source": [
    "for stat in ('learned_correctly', 'steps_learning'):\n",
    "    bar_chart_per_algorithm_and_oracle(results, stat, stat_method=np.mean, only_if=is_valid_result)"
   ]
  },
  {
   "cell_type": "code",
   "execution_count": null,
   "id": "7",
   "metadata": {},
   "outputs": [],
   "source": [
    "for orig_num_states in sorted(list(set(r['original_automaton_size'] for r in valid_results))):\n",
    "    print(orig_num_states)\n",
    "    bar_chart_per_algorithm_and_oracle('learned_correctly', stat_method=np.mean, only_valid=True, only_if=lambda res: res['original_automaton_size'] == orig_num_states)\n",
    "    bar_chart_per_algorithm_and_oracle('timed_out', stat_method=np.mean, only_valid=True, only_if=lambda res: res['original_automaton_size'] == orig_num_states)\n",
    "    bar_chart_per_algorithm_and_oracle('Precision (all steps)', stat_method=np.mean, only_valid=True, only_if=lambda res: res['original_automaton_size'] == orig_num_states)\n",
    "    bar_chart_per_algorithm_and_oracle('Precision (traces)', stat_method=np.mean, only_valid=True, only_if=lambda res: res['original_automaton_size'] == orig_num_states)"
   ]
  },
  {
   "cell_type": "code",
   "execution_count": null,
   "id": "8",
   "metadata": {},
   "outputs": [],
   "source": [
    "print(\"test\")"
   ]
  },
  {
   "cell_type": "code",
   "execution_count": null,
   "id": "9",
   "metadata": {},
   "outputs": [],
   "source": [
    "bar_chart_per_algorithm_and_oracle('timed_out', stat_method=sum)"
   ]
  },
  {
   "cell_type": "code",
   "execution_count": null,
   "id": "10",
   "metadata": {},
   "outputs": [],
   "source": []
  }
 ],
 "metadata": {
  "kernelspec": {
   "display_name": "Python 3 (ipykernel)",
   "language": "python",
   "name": "python3"
  },
  "language_info": {
   "codemirror_mode": {
    "name": "ipython",
    "version": 3
   },
   "file_extension": ".py",
   "mimetype": "text/x-python",
   "name": "python",
   "nbconvert_exporter": "python",
   "pygments_lexer": "ipython3",
   "version": "3.11.5"
  }
 },
 "nbformat": 4,
 "nbformat_minor": 5
}
