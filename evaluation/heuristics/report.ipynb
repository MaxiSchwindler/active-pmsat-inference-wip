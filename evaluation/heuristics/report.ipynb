{
 "cells": [
  {
   "cell_type": "code",
   "execution_count": null,
   "id": "0",
   "metadata": {},
   "outputs": [],
   "source": [
    "import os\n",
    "from active_pmsatlearn.heuristics import simple_heuristic, intermediary_heuristic, advanced_heuristic\n",
    "from evaluation.heuristics.utils import print_heuristic_stats_for_all_models_in_dir\n",
    "\n",
    "from utils import compare_heuristics, plot_heuristic_scores_for_all_models_in_dir, plot_number_of_best_models_identified, print_heuristic_stats_for_all_models_in_dir\n",
    "\n",
    "data_dir = \"../../generated_data_5\"\n",
    "data_dir = \"../../../../_archive/OLD_active-pmsat-inference-wip/generated_data_1\"\n",
    "\n",
    "save_images_dir = \"../thesis_charts/selected_findings/heuristics/old_but_maybe_used\"\n",
    "os.makedirs(save_images_dir, exist_ok=True)\n",
    "# probable call:\n",
    "# evaluation/heuristics/generate_data.py -n 20 --learn-num-times 1 -ni 3-4 -no 3-4 -ns 4-8 -dmin 3 -dmax 3 -el 4 -gp 1\n"
   ]
  },
  {
   "cell_type": "code",
   "execution_count": null,
   "id": "1",
   "metadata": {},
   "outputs": [],
   "source": [
    "import matplotlib as mpl\n",
    "import matplotlib.pyplot as plt\n",
    "plt.style.use(\"default\")  # initialize to default - seaborn overrides!\n",
    "\n",
    "mpl.rcParams.update({\n",
    "        # Fonts\n",
    "        \"font.family\": \"serif\",\n",
    "        \"font.serif\": [\"Times New Roman\", \"Times\", \"DejaVu Serif\"],\n",
    "        \"font.size\": 11,                # Match thesis body text\n",
    "        \"axes.titlesize\": 13,           # Section-style figure titles\n",
    "        \"axes.labelsize\": 11,\n",
    "        \"xtick.labelsize\": 10,\n",
    "        \"ytick.labelsize\": 10,\n",
    "\n",
    "        # Axes & Lines\n",
    "        \"axes.linewidth\": 1.0,\n",
    "        \"lines.linewidth\": 1.5,\n",
    "        \"lines.markersize\": 6,\n",
    "\n",
    "        # Legend\n",
    "        \"legend.fontsize\": 10,\n",
    "        \"legend.title_fontsize\": 10,\n",
    "        \"legend.handlelength\": 1.8,\n",
    "        \"legend.handleheight\": 0.8,\n",
    "        \"legend.borderaxespad\": 0.8,\n",
    "        \"legend.borderpad\": 0.5,\n",
    "        \"legend.labelspacing\": 0.4,\n",
    "        \"legend.handletextpad\": 0.5,\n",
    "        \"legend.columnspacing\": 1.2,\n",
    "        \"legend.fancybox\": False,\n",
    "\n",
    "        # Figure\n",
    "        # \"figure.dpi\": 300,\n",
    "        \"savefig.dpi\": 300,\n",
    "        # \"figure.figsize\": (9, 6),  # Good for 2-column layout\n",
    "        \"figure.constrained_layout.use\": True,\n",
    "\n",
    "        # Ticks\n",
    "        \"xtick.major.size\": 4,\n",
    "        \"xtick.major.width\": 0.8,\n",
    "        \"ytick.major.size\": 4,\n",
    "        \"ytick.major.width\": 0.8,\n",
    "\n",
    "        # PDF output\n",
    "        \"pdf.fonttype\": 42,  # Ensures text remains text in PDFs\n",
    "    })"
   ]
  },
  {
   "cell_type": "code",
   "execution_count": null,
   "id": "2",
   "metadata": {},
   "outputs": [],
   "source": [
    "#compare_heuristics([simple_heuristic, intermediary_heuristic, advanced_heuristic], data_dir)"
   ]
  },
  {
   "cell_type": "code",
   "execution_count": null,
   "id": "3",
   "metadata": {},
   "outputs": [],
   "source": [
    "from evaluation.heuristics.utils import plot_heuristic_scores_for_model\n",
    "from pathlib import Path\n",
    "\n",
    "simple_heuristic.__name__ = \"simpleHeuristic\"\n",
    "intermediary_heuristic.__name__ = \"intermediaryHeuristic\"\n",
    "advanced_heuristic.__name__ = \"advancedHeuristic\"\n",
    "\n",
    "heuristics = [simple_heuristic, intermediary_heuristic, advanced_heuristic]\n",
    "\n",
    "fig, axes = plt.subplots(1, len(heuristics), figsize=(12, 4))\n",
    "for heuristic, ax in zip(heuristics, axes):\n",
    "        for model_name in os.listdir(data_dir):\n",
    "                if not (Path(data_dir) / model_name).is_dir():\n",
    "                    continue        \n",
    "                plot_heuristic_scores_for_model(model_name, heuristic, models_dir=data_dir, new_plot=False, show_plot=False,\n",
    "                                                alpha=0.3, plot_zero_line=False, as_line=True, mark_best_model=True, ax=ax)\n",
    "\n",
    "plt.savefig(Path(save_images_dir) / f\"heuristic_scores.png\")\n",
    "\n",
    "plt.figure()\n",
    "for heuristic in heuristics:\n",
    "        plot_number_of_best_models_identified(heuristic, models_dir=data_dir, new_plot=False, show_plot=False,\n",
    "                                      as_line=True)\n",
    "plt.savefig(Path(save_images_dir) / f\"num_best_models.png\")"
   ]
  },
  {
   "cell_type": "code",
   "execution_count": null,
   "id": "4",
   "metadata": {},
   "outputs": [],
   "source": [
    "print_heuristic_stats_for_all_models_in_dir(*heuristics, models_dir=data_dir)"
   ]
  },
  {
   "cell_type": "code",
   "execution_count": null,
   "id": "5",
   "metadata": {},
   "outputs": [],
   "source": [
    "Distance,simple_heuristic,intermediary_heuristic,advanced_heuristic\n",
    "-3,5 (1.2%),5 (1.2%),5 (1.2%)\n",
    "-2,17 (4.2%),14 (3.5%),16 (4.0%)\n",
    "-1,56 (14.0%),42 (10.5%),42 (10.5%)\n",
    "0,295 (73.8%),297 (74.2%),300 (75.0%)\n",
    "1,12 (3.0%),17 (4.2%),17 (4.2%)\n",
    "2,10 (2.5%),14 (3.5%),10 (2.5%)\n",
    "3,5 (1.2%),11 (2.8%),10 (2.5%)\n"
   ]
  }
 ],
 "metadata": {
  "kernelspec": {
   "display_name": "Python 3",
   "language": "python",
   "name": "python3"
  },
  "language_info": {
   "codemirror_mode": {
    "name": "ipython",
    "version": 2
   },
   "file_extension": ".py",
   "mimetype": "text/x-python",
   "name": "python",
   "nbconvert_exporter": "python",
   "pygments_lexer": "ipython2",
   "version": "2.7.6"
  }
 },
 "nbformat": 4,
 "nbformat_minor": 5
}
